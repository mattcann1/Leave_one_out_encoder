{
 "cells": [
  {
   "cell_type": "markdown",
   "metadata": {},
   "source": [
    "# Leave One Out Categorical Encoder"
   ]
  },
  {
   "cell_type": "code",
   "execution_count": 8,
   "metadata": {},
   "outputs": [],
   "source": [
    "#Imports____________\n",
    "import pandas as pd\n"
   ]
  },
  {
   "cell_type": "markdown",
   "metadata": {},
   "source": [
    "## LOO Encoder Class"
   ]
  },
  {
   "cell_type": "code",
   "execution_count": 2,
   "metadata": {},
   "outputs": [],
   "source": [
    "class Encoder_LOO():\n",
    "    '''Leave-one-out encoder\n",
    "    '''\n",
    "    def __init__(self, RR):\n",
    "        self.RR = RR\n",
    "        self.cat_values = []\n",
    "        self.target_sums = []\n",
    "        self.sum_counts = []\n",
    "\n",
    "\n",
    "    def fit(self, feature_column, target_column):\n",
    "        '''Fits encoder to feature column and target column: \n",
    "            Returns the unique categorical values and the associated sums and counts'''\n",
    "        \n",
    "        self.cat_values = list(feature_column.unique())\n",
    "\n",
    "        for cat in self.cat_values:\n",
    "            \n",
    "            cat_ind = feature_column==cat #Indeces of categories in feature column\n",
    "            \n",
    "            cat_sum = cat_ind.sum() #Number of categorical occurrences\n",
    "            target_sum = target_column[cat_ind].sum()#Sum of target values for category\n",
    "            \n",
    "            #List updates\n",
    "            self.sum_counts.append(cat_sum)\n",
    "            self.target_sums.append(target_sum)\n",
    "    \n",
    "        return self\n",
    "        \n",
    "    def transform(self, feature_column, target_column = None):\n",
    "        '''Category encoding using Leave one out method, for training set the \n",
    "        current record is left out, for testing it is included.\n",
    "        \n",
    "        ###Parameters\n",
    "        feature_column: Pandas series of the feature column to be encoded\n",
    "        target_column: Pandas series of the target column of the training set\n",
    "\n",
    "            \n",
    "        ###Returns\n",
    "        df_output : Pandas dataframe of the column 'encoded' with encoded values.\n",
    "        '''\n",
    "        \n",
    "        col_x = feature_column\n",
    "        col_y = target_column\n",
    "        \n",
    "        encode_values = []\n",
    "        \n",
    "        #Testing Set: No target column is given\n",
    "        if target_column is None:\n",
    "            for i, xx in enumerate(col_x):\n",
    "                    \n",
    "                indx = self.cat_values.index(xx)\n",
    "                count_i = self.sum_counts[indx]\n",
    "                sum_i = self.target_sums[indx]\n",
    "                \n",
    "                ci = (sum_i)/(count_i+self.RR)\n",
    "                encode_values.append(ci)\n",
    "                \n",
    "            df_output = pd.DataFrame()\n",
    "            df_output['encoded'] = encode_values\n",
    "            \n",
    "            return df_output\n",
    "        \n",
    "        #Training Set\n",
    "        else:\n",
    "            for i, xx in enumerate(col_x):\n",
    " \n",
    "                y_i = list(col_y.values)[i]\n",
    "                indx = self.cat_values.index(xx)\n",
    "                count_i = self.sum_counts[indx]\n",
    "                sum_i = self.target_sums[indx]\n",
    "                \n",
    "                #If only one entry\n",
    "                if count_i == 1:\n",
    "                    ci = col_y.mean()\n",
    "                \n",
    "                else:\n",
    "                    ci = (sum_i-y_i)/(count_i-1+self.RR)\n",
    "                    \n",
    "                encode_values.append(ci)\n",
    "            df_output = pd.DataFrame()\n",
    "            df_output['encoded'] = encode_values\n",
    "            return df_output"
   ]
  },
  {
   "cell_type": "markdown",
   "metadata": {},
   "source": [
    "### Create Dataframe"
   ]
  },
  {
   "cell_type": "code",
   "execution_count": 15,
   "metadata": {},
   "outputs": [],
   "source": [
    "df_train = pd.DataFrame({'color':['Red','White','Pink','Green','Blue','Blue','Blue','Blue','Red','Red','Purple'], \n",
    "     'outcome':[1,0,0,1,2,1,1,0,0,1,0]})\n",
    "                  \n",
    "                  \n",
    "df_test = pd.DataFrame({'color':['Green','Pink','White','Green','Red'], \n",
    "     'outcome':[2,2,1,1,1]} )                \n",
    "                  \n",
    "# set up X and y\n",
    "X_train = df_train.drop('outcome', axis = 1)\n",
    "y_train = df_train.drop('color', axis = 1)\n",
    "\n",
    "X_test = df_test.drop('outcome', axis = 1)\n",
    "y_test = df_test.drop('color', axis = 1)\n"
   ]
  },
  {
   "cell_type": "markdown",
   "metadata": {},
   "source": [
    "### Encode Training and Testing Sets"
   ]
  },
  {
   "cell_type": "code",
   "execution_count": 27,
   "metadata": {},
   "outputs": [
    {
     "name": "stdout",
     "output_type": "stream",
     "text": [
      "Training set \n",
      "      color  outcome   encoded\n",
      "0      Red        1  0.500000\n",
      "1    White        0  0.636364\n",
      "2     Pink        0  0.636364\n",
      "3    Green        1  0.636364\n",
      "4     Blue        2  0.666667\n",
      "5     Blue        1  1.000000\n",
      "6     Blue        1  1.000000\n",
      "7     Blue        0  1.333333\n",
      "8      Red        0  1.000000\n",
      "9      Red        1  0.500000\n",
      "10  Purple        0  0.636364\n",
      "Testing set \n",
      "    color  outcome   encoded\n",
      "0  Green        2  1.000000\n",
      "1   Pink        2  0.000000\n",
      "2  White        1  0.000000\n",
      "3  Green        1  1.000000\n",
      "4    Red        1  0.666667\n"
     ]
    }
   ],
   "source": [
    "#RR = regularization factor\n",
    "RR = 0\n",
    "\n",
    "ec = Encoder_LOO(RR=0)\n",
    "ec.fit(X_train['color'], y_train['outcome'])\n",
    "X_train_encode = ec.transform(X_train['color'], y_train['outcome'])\n",
    "X_test_encode = ec.transform(X_test['color'])\n",
    "\n",
    "df_train['encoded'] = X_train_encode\n",
    "df_test['encoded'] = X_test_encode\n",
    "\n",
    "print('Training set \\n', df_train)\n",
    "print('Testing set \\n', df_test)\n",
    "\n"
   ]
  },
  {
   "cell_type": "code",
   "execution_count": null,
   "metadata": {},
   "outputs": [],
   "source": []
  }
 ],
 "metadata": {
  "kernelspec": {
   "display_name": "Python 3",
   "language": "python",
   "name": "python3"
  },
  "language_info": {
   "codemirror_mode": {
    "name": "ipython",
    "version": 3
   },
   "file_extension": ".py",
   "mimetype": "text/x-python",
   "name": "python",
   "nbconvert_exporter": "python",
   "pygments_lexer": "ipython3",
   "version": "3.7.3"
  }
 },
 "nbformat": 4,
 "nbformat_minor": 4
}
